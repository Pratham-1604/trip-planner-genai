{
 "cells": [
  {
   "cell_type": "code",
   "execution_count": 1,
   "id": "adfe2423",
   "metadata": {},
   "outputs": [],
   "source": [
    "import json"
   ]
  },
  {
   "cell_type": "code",
   "execution_count": null,
   "id": "7895cf8e",
   "metadata": {},
   "outputs": [],
   "source": [
    "from features.iternary_generation.llm_parser import llm_parse_user_input, generate_clarifying_questions\n",
    "from features.iternary_generation.iternary_generator import generate_itinerary\n",
    "from features.iternary_generation.basic_tag_personalization import apply_personalization\n",
    "from features.reddit_scraper.scraper import fetch_reddit_comments\n",
    "from features.reddit_scraper.preprocess import preprocess_reddit_data\n",
    "from features.reddit_scraper.summarizer import summarize_places"
   ]
  },
  {
   "cell_type": "code",
   "execution_count": 3,
   "id": "42d1bdbd",
   "metadata": {},
   "outputs": [],
   "source": [
    "prompt = \"Plan a 5-day foodie + nightlife trip to Goa with 40k budget\""
   ]
  },
  {
   "cell_type": "code",
   "execution_count": 11,
   "id": "9f1317d6",
   "metadata": {},
   "outputs": [
    {
     "data": {
      "text/plain": [
       "['When are you planning to travel?',\n",
       " 'How many people are traveling?',\n",
       " 'Is this a solo trip, couple trip, family trip, or group trip?',\n",
       " 'Do you have a preference for stay (hotel, hostel, homestay, luxury, etc.)?',\n",
       " 'Any food preferences or restrictions (veg, non-veg, vegan, Jain, etc.)?',\n",
       " 'What will be your transport mode?',\n",
       " 'Does the budget include the initial travel cost (flight, train, etc)',\n",
       " 'Do you have any personal preferences for this trip?']"
      ]
     },
     "execution_count": 11,
     "metadata": {},
     "output_type": "execute_result"
    }
   ],
   "source": [
    "que"
   ]
  },
  {
   "cell_type": "code",
   "execution_count": 15,
   "id": "4cc0ad03",
   "metadata": {},
   "outputs": [],
   "source": [
    "resp = ' '.join(que)"
   ]
  },
  {
   "cell_type": "code",
   "execution_count": 16,
   "id": "da31d0b6",
   "metadata": {},
   "outputs": [
    {
     "data": {
      "text/plain": [
       "'When are you planning to travel? How many people are traveling? Is this a solo trip, couple trip, family trip, or group trip? Do you have a preference for stay (hotel, hostel, homestay, luxury, etc.)? Any food preferences or restrictions (veg, non-veg, vegan, Jain, etc.)? What will be your transport mode? Does the budget include the initial travel cost (flight, train, etc) Do you have any personal preferences for this trip?'"
      ]
     },
     "execution_count": 16,
     "metadata": {},
     "output_type": "execute_result"
    }
   ],
   "source": [
    "resp"
   ]
  },
  {
   "cell_type": "code",
   "execution_count": null,
   "id": "87ef0a57",
   "metadata": {},
   "outputs": [
    {
     "name": "stdout",
     "output_type": "stream",
     "text": [
      "Client Created successfully\n",
      "```json\n",
      "{\n",
      "  \"location\": \"Goa\",\n",
      "  \"duration_days\": 5,\n",
      "  \"budget\": 40000,\n",
      "  \"themes\": [\"food\", \"nightlife\"],\n",
      "  \"when\": \"unspecified\",\n",
      "  \"preferences\": \"none\",\n",
      "  \"include_travel_costs\": \"unspecified\",\n",
      "  \"num_travelers\": 1,\n",
      "  \"traveler_type\": \"unspecified\",\n",
      "  \"accommodation\": \"unspecified\",\n",
      "  \"food_preferences\": \"unspecified\",\n",
      "  \"transport_mode\": \"unspecified\",\n",
      "  \"local_transport\": \"unspecified\",\n",
      "  \"activity_pace\": \"balanced\",\n",
      "  \"must_include\": [],\n",
      "  \"must_exclude\": [],\n",
      "  \"purpose\": \"unspecified\"\n",
      "}\n",
      "```\n",
      "Parsed Input: {'location': 'Goa', 'duration_days': 5, 'budget': 40000, 'themes': ['food', 'nightlife'], 'when': 'unspecified', 'preferences': 'none', 'include_travel_costs': 'unspecified', 'num_travelers': 1, 'traveler_type': 'unspecified', 'accommodation': 'unspecified', 'food_preferences': 'unspecified', 'transport_mode': 'unspecified', 'local_transport': 'unspecified', 'activity_pace': 'balanced', 'must_include': [], 'must_exclude': [], 'purpose': 'unspecified'}\n",
      "When are you planning to travel?\n",
      "How many people are traveling?\n",
      "Is this a solo trip, couple trip, family trip, or group trip?\n",
      "Do you have a preference for stay (hotel, hostel, homestay, luxury, etc.)?\n",
      "Any food preferences or restrictions (veg, non-veg, vegan, Jain, etc.)?\n",
      "What will be your transport mode?\n",
      "Does the budget include the initial travel cost (flight, train, etc)\n",
      "Do you have any personal preferences for this trip?\n"
     ]
    }
   ],
   "source": [
    "parsed = llm_parse_user_input(prompt)\n",
    "print(\"Parsed Input:\", parsed)\n",
    "\n",
    "que =  generate_clarifying_questions(parsed)\n",
    "if len(que):\n",
    "    for i in que:\n",
    "        print(i)\n",
    "\n",
    "inp = input()\n",
    "\n",
    "new_prompt = prompt + \" clarifying answers\" + inp"
   ]
  },
  {
   "cell_type": "code",
   "execution_count": null,
   "id": "21d4e074",
   "metadata": {},
   "outputs": [
    {
     "name": "stdout",
     "output_type": "stream",
     "text": [
      "Plan a 5-day foodie + nightlife trip to Goa with 40k budget. Clarifying answers: December 2025, 2 person, couple, hotels, veg, flight, yes, visit as much as possible\n"
     ]
    }
   ],
   "source": [
    "new_prompt = prompt + \". Clarifying answers: \" + inp\n",
    "print(new_prompt)"
   ]
  },
  {
   "cell_type": "code",
   "execution_count": 6,
   "id": "ce0eac1b",
   "metadata": {},
   "outputs": [
    {
     "name": "stdout",
     "output_type": "stream",
     "text": [
      "Client Created successfully\n",
      "```json\n",
      "{\n",
      "  \"location\": \"Goa\",\n",
      "  \"duration_days\": 5,\n",
      "  \"budget\": 40000,\n",
      "  \"themes\": [\n",
      "    \"food\",\n",
      "    \"nightlife\"\n",
      "  ],\n",
      "  \"when\": \"December 2025\",\n",
      "  \"preferences\": \"visit as much as possible\",\n",
      "  \"include_travel_costs\": \"yes\",\n",
      "  \"num_travelers\": 2,\n",
      "  \"traveler_type\": \"couple\",\n",
      "  \"accommodation\": \"hotels\",\n",
      "  \"food_preferences\": \"veg\",\n",
      "  \"transport_mode\": \"flight\",\n",
      "  \"local_transport\": \"unspecified\",\n",
      "  \"activity_pace\": \"packed\",\n",
      "  \"must_include\": [],\n",
      "  \"must_exclude\": [],\n",
      "  \"purpose\": \"unspecified\"\n",
      "}\n",
      "```\n",
      "Parsed Input: {'location': 'Goa', 'duration_days': 5, 'budget': 40000, 'themes': ['food', 'nightlife'], 'when': 'December 2025', 'preferences': 'visit as much as possible', 'include_travel_costs': 'yes', 'num_travelers': 2, 'traveler_type': 'couple', 'accommodation': 'hotels', 'food_preferences': 'veg', 'transport_mode': 'flight', 'local_transport': 'unspecified', 'activity_pace': 'packed', 'must_include': [], 'must_exclude': [], 'purpose': 'unspecified'}\n"
     ]
    }
   ],
   "source": [
    "new_parsed = llm_parse_user_input(new_prompt)\n",
    "print(\"Parsed Input:\", new_parsed)\n",
    "\n",
    "place = new_parsed[\"location\"]"
   ]
  },
  {
   "cell_type": "code",
   "execution_count": 8,
   "id": "76806dec",
   "metadata": {},
   "outputs": [
    {
     "name": "stdout",
     "output_type": "stream",
     "text": [
      "Posts:  [{'title': 'Why You Should Rethink Visiting Goa', 'comments': ['I’d posted about a similar taxi incident and got downvoted. Fuck the taxi mafia of Goa.', '[deleted]', \"We visited Goa about 10 days back and had pretty much the exact experience. It makes me so angry to think about it, they've completely ruined the place. Not going to Goa ever again, not if I can help it.\", \"I visited Goa in the first week of November and even though I had a kid and wife, I chose to rent a scooter and drive straight from the station. The taxi extortion is out of hand and the shacks are completely ripping people off. Earlier atleast the food was good, but now it has deteriorated and feels absolutely worthless! You can't even sit peacefully at a beach or a shack without being bothered every 5 mins by someone selling some crap! The calangute and baga beach was very dirty and littered all around and there were way too many people crowding it.\", 'I used to be a regular 10-12 years back, at least one trip in 2 months. Faced an issue with a cab guy who took advantage of our situation and upon escalation called nearby cab drivers to join in. Without even knowing what the altercation was about, they started shouting and hurling abuses onto us, especially seeing we had girls in the group.\\n\\nSince we were local maharashtrian folks, we knew how to handle and involved police to sort it out. I won’t go into details how but they ran like mosquitoes invited to a human suck fest.\\n\\nI and everyone in our group vowed to never return to Goa. We instead went to other Konkani places like Harihareshwar, and now travel Internationally (we earn better now) for vacation. \\n\\nGoa wasn’t cheaper back then, and from the looks of it, ain’t cheaper now. There are abundant places to visit now. Thailand, Malaysia, Vietnam, Sri Lanka are great options and not far too. Plus, it’s an international location and better at every angle from tourism perspective.\\n\\nTo summarize, we are expert in ruining good things and cab guys and treatment of local (Indian) folks in general, is impacting the tourism and daily livelihood. I understand Indian folks aren’t the best guests but we can’t solely rely on foreigners.', \"Anjuna was my favorite haunt, as it was a charming small village, today there is a KFC, Karims of Jama Masjid, Gaini's ice cream, and momo chains, and burger chains.\\n\\nThe Goa experience is over. Food is overrated, the shacks are empty, and nearly shut.\\n\\nDon't even mention the taxi mafia, or the police mafia....\", \"So sad to hear abt goa. It was such a lovely n enchanting place years ago. Ppl we're friendly too.\", 'I prefer renting cars or scooty rather than travelling by cab', 'We rented car,\\nBut for airport drop we booked cab. \\nAnd at night due to drinking and drive, it’s better to take a cab as we had a child with us. \\nExactly on beaches people keep bothering you. No peace at all. \\nI visited Langkawi, Malaysia. \\nThat’s a better option, cheaper car rent and better beach shacks.', 'The same scam. Paid 500 Rs for 2kms to taxi guy . Was traveling with kids so no other option . Scamming their way to losing tourists / customers. Strong government intervention required', 'Sorry you had to got through that OP.\\n\\nWe just took a similar trip last week - my wife, our 3-year old son and myself.\\nWhile I advocate for a self-driven vehicle for while you are there, I would also recommend getting the trips to and from the airport booked with the hotel. Although pricey, I find that to be convenient and hopefully safer.', 'Yikes, about $10 CAD per km?😳it’s funny Uber was promoting servicing Goa but when I looked at a few places in Goa to check prices and there aren’t any drivers available. Do you have any advice on how to navigate the taxi situation in Goa? I hoped to check out a few places further away from our AirBnB but for $10/km, I don’t think I can afford that. I thought of booking through our AirBnB host, is that a good idea? I don’t want them to be threatened/I also don’t want to be taken advantage of.', 'Taxi mafias and hotel over pricing is killing Goa tourism', 'As a Goan, I agree with the taxi mafia being twats. \\n\\nOther than that, you lot tempt me to make a guide on how to find the best experiences. \\n\\nWhat restaurants and shacks are you finding with these so-called extortionate prices when I find a good main dish like a pasta and multiple cocktails for 2 with desserts all under 1k? 👀', 'You want to get back and teach them a lesson?? Very simple. JUST STOP SPENDING YOUR HARD EARNED MONEY BY GOING THERE. \\n\\nSpending on bad tourist places is just like getting scammed wilfully.', 'Been there at Nov end. We took a self drive car so didn’t face any issue with cab although he quoted ₹300 extra per day. I totally agree with the food and the prices at shacks.', 'This is what the Delhi-wallas wanted and created. Welcome to the last stop on the Dilli Metro 😂', 'To the people who decide to rent a scooter the next thing that becomes your obstacle is dust. They’ve dug up practically all Goa and left the roads in ruins. There’s red dust flying in your face and by the time you reach anywhere your eyes are itching. What used to be a place for people to ride is now ruined as well. Everything goa was is finished. Even Anjuna has become Baga now with tourist buses pulling in dozens of people. Pathetic.', \"I had travelled to Goa a few times and to get this issue sorted what I do now is I do a checkout in morning with luggage and get a Goa tour Cab from the hotel's contact. \\n\\nI book it for the whole day costs around 2-3k and visit places like old goa, churches etc which I don't cover on my initial days of tour and the last stop is airport/railway station/bus stand. This has always helped me avoid taxi mafia's stupid demands as these guys that we book are already part of it but they're happy to get a big amount so they don't harass us.\\n\\nBut again I agree with avoiding Goa for sometime as it is very different from what it used to be.\", 'Kashmir being so hostile is so nice to tourists and even cheaper. i had rented a wonderful clean apartment with awesome view for just 600rs per night.']}, {'title': '22F, Solo Trip- Goa', 'comments': ['Hi I am 22f too ..travelled from bangalore itself ..went during the independence weekend..i would say if you dont know how to ride a scooty its gonna be a big problem ..because the local taxi operators will charge you 700-800rs for a minimal distance..there is an app called goa miles through which you can book cabs but its highly unreliable!!so when someone tells you to install that app and add money in the wallet..DO NOT DO THAT!plus if you do decide to rent a scooty rent a raincoat too..my whole trip was ruined because of all these factors and i didnt even get to see the beach😭😭dont want you going thru that..about the stay ..i booked airbnbs with my friends but def go for hostels near to the hot spots.safe travelss! And if you are okay with it lets connect ..I am planning to go to Gokarna in a few weeks!', \"Scooty is the most reliable, but if your travelling solo don't travel too late, or use a bus.. goa is safe, but better to be safe. Gpay is available everywhere..no need to carry much cash.\", 'Maam it all depends on what you want to do. In that way you can choose the place you stay. If you can ride then there are rent a bikes or if you drive then there is rent a car. (make sure to make a video of the vehicle and point out all scratches and bumps to the person who delivers the said bike or car. With regards to bus flight or train that too depends on you and where you are coming from. If you want more info. DM', \"October is usually a good time to visit. The monsoon subsides during this time but there could be a few showers here and there. \\nFor reaching Goa, I'd suggest you take a route where you can spend the travel time sleeping so that you don't lose out on the day. Although if you're travelling from Mumbai a day train isn't too bad because of some beautiful views of the Konkan coast. \\nThere are many great cafes and shacks that I'll let others recommend but I'd just say that the joy of wandering in Goa is to just find a cozy place anywhere you can and spend the day watching the sun set while having a cold beer or whatever drink you prefer (btw no matter what people say, you don't need alcohol to enjoy Goa). But since it's your first time there and you're just 22, I would assume you would have better plans :)\\n\\nEnjoy the trip and please be safe.\", 'North is dug up, road and flyover work ….roads are bad. Travel via scooty only', 'Zostel Morjim. Period. It is so so great. \\n\\nIf you want a place near by party places so you dont have to drive then zostel Anjuna. But zostel morjim is much more better in terms of rooms, ambience, space inside, *hippie corner*', 'Don’t rely solely on GoaMiles for transport—they often overcharge and at times never show up even after accepting the ride. \\nOn arrival, hire a cab directly from the station and save the driver’s number for your return trip.', 'i’ve done goa solo twice. i prefer solo rooms over hostels. yes gpay works at almost all places. i prefer morjim but i’m also waaay older than you hahah \\ncheck out zest at talpona in south, in north - babu beach huts on morjim. i’ve heard woke hostel at morjim is good too \\ni went kayaking, explored quarries, siolim, and also do check out Veranda and Kuchun \\n\\nhave fun! :)', 'There re many hostels you can choose from, mostly hostel mates would be going somewhere for lunch n dinner. You can do that with them. Funky monkey the second time I stayed hs gone bad. All hostels want money only. Mostly men re scammed. As a women you should be fine.', 'Goa miles for Airport/Bus stop to Hotel/Hostel. \\n\\nStay near Candolim/Vagator\\n\\nTake Two wheeler 400 a day max. (Make video/Ride it before booking, check Luggage lock)', 'Visit thalas sinqe best exp as solo avoide Calangute if u r solo means u r introvert person so try peaceful beaches and  cafes ...avoid riding after 10', 'ALSO YES CARRY CASH ..because idk why jio doesnt work there ..like i was in north goa most of the times and theres hardly any network', ' D', 'Hey 23F here, I went on my first solo trip to Goa last month and stayed at House of Memories. Would highly recommend it, felt completely safe, the owners are great and they have lovely dogs. I made some really good friends there and there’s a lot of good places to eat walking distance. The owner is sweet and will plan activities and dinners for the guests at the hostel.\\nI didn’t have to think about anything. Go for it!\\nJust make sure you download Goa Miles as there is no Uber. Carry cash for cabs, but mostly gpay should be fine.', 'Hi , me 22 m planing to visit goa on oct 1st week\\nIf u wanna catch up dm me', 'Been to goa 7-8 times by now (not all by choice mostly company events). October according to me is not a great time to visit. There are few days of rain shower but overall it can be humid. Sept-oct is mainly end of monsoon season. Not having cab facility is the biggest roadblock in goa. You meed to be able to ride scooty or car and u can rent them in advance from rental places and they provide delivery and return facility to airport. Goa miles is the govt operated cab service but it is not available at all times and when you book, you will get time slots when the cabs are available so you need to plan and book in advance which might not be ideal when u want to just relax without worrying about time. Best option left is to check bus route and use them to go places. There are also last min connectivity through autos in some places.  \\n\\nIf you are in north goa, do check out como pizzeria. You should also visit assagao which has lines of restaurants and cafes some of which like artjuna are really popular and good.', 'Zostel Anjuna is better afaik, xoxo is good for parties\\nDm if you want my itinerary that I used in feb this this year', 'Hello actually I am planning a solo trip to goa myself since my exams got over so please let me know how will you be planning and help me out too…thanks!!', 'Me and my friends are also planning to stay in Goa 6-12 oct in north. Thinking of staying in Zostel morjim.', 'Heyy! So if anybody is travelling between Sept 10th- Sept 20th and is coming back to Bangalore airport from Goa I would want a few liquor bottles from Goa for my girlfriend’s bday..Im ready to pay extra even for the non drinkers…if u r travelling please lmk\\xa0']}, {'title': 'Please recommend good bus options from Pune to Goa', 'comments': ['Avoid paolo at any cost, their bus will breakdown for certain', 'Atmaram is the best', 'Kadamba or Purple', 'Kadamba if wanna go for state govt travel !! Else look purple if going for premium!', \"I did about 4 trips between Goa and Pune in the last two months, here's my recommendations: \\n\\nFlixBus - good communication, good pickup/drop points, clean and comfortable seats, and a comfortable ride\\n\\nPurple - confusing communication: numbers that they send aren't always the actual ones and have to wait for the bus guy to get in touch. Ride/seats aren't very comfortable\\n\\nZingBus - all good, seats not very comfortable, check seat for cleanliness as well\\n\\nZingBus and FlixBus have good offers on MMT too\", 'Book any multi axle bus.. like Volvo 9600.\\n\\nGoing south i prefer VRL', 'Kadamba', 'I have travelled on Intercity buses. Would recommend those\\xa0', 'Heard intrcity is good. It’s spelled this way only', '\\n\\nI texted this message to our HR when she was confused on bus booking. Hope this helps 😑\\n\\nDear Madam \\n\\n\"Travels preference\" \\n\\nVrl or Volvo multiaxle bus . \\n\\nVolvo 9600>b11r> b9r> b8r. \\n\\nNo last seats please. \\n\\nSingle birth.for each individual. \\n\\nBoarding point whichever is near to our site.....🥱', \"Just look for the bus type . If it's volvo multi axle then it's best..\", 'Purple', 'Atmaram Gobus best. Was my goto when I used to travel back and fro from my college in Goa.', \"Take train! It's the most comfortable and reliable option.\", 'Avoid Paolo, Atmaram, VRL. Currently Zingbus and Intrcity are the best options. Ans yes,  prefer lower berth in the middle/front of the layout.', 'Intercity is the best', 'Purple, volvo multi axle it is!', 'Avoid VRL at any cost....old smelly busses on this route', 'Paulo travels', 'Noted. Thank you!']}, {'title': \"What's the current taxi/cab situation in Goa from Airport & Railway Station? Need tips & suggestions!\", 'comments': ['One word, Horrible!', 'Very scary situation with regards to taxi services. Be mentally prepared to get abused for protesting unreasonable pricing of private taxis  or while  taking app based app based taxi when private taxi drivers are around . Dont even try to book app based taxi when private taxi owners are around.  Even app based taxi may be disallowed to enter a particular hotel premises or tourist destination parking area  ( as decided by local taxiwalas) .\\n\\nIn short  , while using taxi services  - pay double , avoid trouble !. I mean to say pay double the amount and avail private taxis.', 'Goa miles is reliable from the airport. \\n\\nWhat works for me is taking goa miles from\\nThe airport to my hotel. I usually ask the driver if he is willing to do the return trip in a few days and usually they agree to the it but add a little more to the price.', 'Near the exit gate, there is a govt cab service. You can tell them, the prices are written there so you can check that. No hassle. Ask the guy’s number, he will drop you back as well same price. I always do that.', 'Based on local newspaper reports, self drive cars are not allowed for pick up and drop at airports and railway stations. You will need to take a taxi from airport/railway stations to your hotel/self drive car rental office. You also can work out with the rental office to arrange a taxi to drop you back. \\nGoa Miles is fine from airport to destination, but return can be tricky.', \"From airport, you'll find goa miles.\\nBut to airport is a real hassle.\", 'Hey ….today I landed in goa at 8am….I’d already booked a car from…Vailankanni car rentals…..didn’t faced any issue…..they provided me the car just outside dabolim airport.', \"I have a guy who provides taxis and self driving cars. I can share his number with you. He's really good and friendly. He will pick you up from the airport and then drop you off and vice versa.\", 'You just book from the Goa miles app and you should be good from the airport to the hotel.\\nThe other way round is the problem, you may have to contact your hotel to share driver details.', 'That’s scarier than a North Goa shack bill after sundown. Should I start mentally preparing myself for an airport-to-hotel adventure that feels like a side quest in GTA Goa Edition?', 'Okay', 'Can I book from mmt?', 'Where did you travel from the airport and how much did it cost you ?', 'Hey please share the number with me too. We friends are travelling next week to Goa', 'Thanks 👍🏻', '[deleted]', 'Can you please share his number', 'Can u share me the number', 'Dm', 'Brother can you pls dm me the number ,thank you']}, {'title': 'Goa Trip Experience - 30 Apr to 6 May', 'comments': ['What a lovely summary 😊 thank you !! Some nice suggestions for a UK visitor', 'Same we also rented from same site, reliable and smooth', 'Goa is the best', 'I see Palolem, I upvote!', 'The first two photos are....\\U0001fa75\\U0001fa75', 'slide 8 location?', 'Any sign of rains?', 'Are the 1st 2 pictures from anjuna beach, in front of Cafe Antonio?', 'I was in Goa last week, I missed butterfly and Palolem Beach', '[deleted]', 'Did not try food at Royal touch in palolem ?', '[deleted]', 'Happy to help!', 'I agree!!', 'Butterfly beach', 'Nope none at all', 'Yes. In fact the first three are from Anjuna, in front of Cafe Antonio', \"No matter how hard you try, it's never possible to cover all the Goan beaches 😀\", \"You'll find street markets near all the major beaches. Anjuna beach has a flea market on Wednesday that you can explore. You'll have to haggle a lot on the prices though.\", 'Nope, I missed that. Is that a good one?']}, {'title': 'Monsoon Goa experience of stag, non-drinkers.', 'comments': ['That was such a fantastic review of your Goa trip! Really well written, appreciate ur efforts. U should consider travel blogging.', 'Super TL;DR: 3-day Goa monsoon trip (stag, non-drinkers). Scooters + casino night in South Goa, rains ruined Dudh Sagar but tried amazing Goan food, did a Palolem → Butterfly trek, and overall still had a blast despite crazy weather.', 'Noice', 'Glad to hear you enjoyed! Seems like a food trip hehe.\\nExploring local food is a great way to get a local experience', \"How is the butterfly beach trek in the monsoon? Would you say its easy? \\n\\nAlso are there any people on that beach? I'm planning to visit it soon but I don't want it to be totally empty. \\n\\nThanks in advance\", 'TL;DR – 3 Days in Goa (Monsoon, stag, non-drinkers)\\n\\nDay 1: Landed at Madgaon early morning, rented scooters (₹800 + ₹1k deposit, poor condition). Checked into Indismart Woodbourne Resort, South Goa (₹10k/2 nights, 4-pax villa, good place for non-party folks). Explored Madgaon market → Casino night at Deltin Jaqk (₹2250 entry, ₹500 games) – turned out to be super fun despite difficult rains while riding. Food tried: cafreal, choris pao, bebinca, local soups & cutlets.\\n\\nDay 2: Heavy rain ruined Dudh Sagar plan (jeeps closed, trekking too long). Spent morning in pool → headed to North Goa for Baga/Tito’s lane, Thalassa (but no sunset views). Bars/shacks mostly barring stags. Food highlight = Dados Goan Café (fish thalis, kokum soda). Fish Deck was average.\\n\\nDay 3: Rode to Palolem (beautiful hill-station vibes). Boat to Butterfly Beach closed, so did a 20–30 min trek – absolutely worth it. Returned scooters (deposit refunded) & shopped Madgaon market. Food highlights: Cheeky Chilli (Palolem – thalis, pad thai, thukpa) & classic Lounghinos (Madgaon – mutton sukka, squid masala, fenny, rum balls).\\n\\nOverall: Rain was harsh, transport on scooters wasn’t easy, but Goa’s food, friendly locals, casino vibe, and natural beauty made the trip awesome even in off-season.', 'Rs. 800 for scooter hire in this season? Ideally it should not more than 300-400 (maybe it was higher for 15th Aug  long weekend).', 'Oh thanks!', \"Yeah, it was.\\nBut We missed eating the ros omlette, we didn't know the two famous places for the ros omlette are closed on monday. \\nAnd I've been asking lot of locals about patoleos, couldn't find it anywhere.\", 'It is easy, there were many people when I visited, there is also an option to take a jeep instead of trekking.', '800 for 2 days ?', 'It was higher for the long weekend, I initially thought they were creating a fake demand but we were wrong. I literally took out 2 of the last 3 scooters of that rental.', 'Haha! You could’ve found Ras omelette on any road side stall, maybe even at the railway station.\\nPatoloes on the other hand are very difficult to find in restaurants. They’re usually prepared only at home', 'No ₹800 for a day', 'Thats a lot', 'Yes it is we were shocked too, but also we got a black with yellow number plate + all of our deposit is returned.']}, {'title': 'Help Needed to find the best Self-Drive Car from Pune to Goa?', 'comments': ['Revv should be ok. Don’t try anything new. Not in pune but once i rented in goa from a google search and the website showed up at the top, but that dude literally harassed me even when I was back to Pune. Choose wisely, specially with them who have customer support atleast', 'I would say go with local rental services companies.. you can bargain a lot. I do have a contact, might be helpful.', 'Tried Zoomcar and it was best. I was planning to hit Goa as well, lemme know dates may be we can gang up. \\n\\nPs. Only if you cna drive. 🤣', 'Personally used Zoomcar, MyChoize and Revv. MyChoize actually has better maintained cars I feel and they also have a good support. Zoom has gone down the drain with people abusing the cars (not zooms fault TBH) as the liability is literally just 10K or so. Also had a couple of bad experiences with Zoom recently (BLR and LKO). \\nRevv is the middle path between these two.', 'you can try a local rental car company. They provide good cars with fixed km on a daily basis with 24 hrs charge and then charge 13km something for extra kms. i tries 2 times once petrol and then CNG both cars were in good condition.', 'I have used zoom car atleast 4 times for the same route, never had any issues. Make sure you check the car before taking it out, if you find any issues you might get an upgrade.', 'If you are looking for a beautiful stop along the way, try www.airbnb.com/h/bandiwadekarsfarm', \"I know a contact for a local rental guy, he generally offers lower rates than zoomcar. I rented his car through zoomcar and the zoomcar app wouldn't let me end the ride due to a glitch. Then when it finally worked it charged me for extra time. I explained the guy, my situation and he understood the situation and blamed zoom too and didn't ask me to pay extra, e even went beyond his way and dropped me to the nearest bus stop to go back home after dropping the car. 5/5 would recommend.\", 'Thank you for the help 🙏', 'Can I DM you?', 'Oh yes! I can drive. Can I DM you?', \"Had a terrible experience with Zoomcar in 2022. Won't recommend it anyday.\", 'can u share the rental company details?', 'Can I DM you to know more on this person?', 'Np', 'Sure, will share.', 'sure!', 'Sure', 'Wow! People consider making travel plans with randos on reddit?', 'Considering is not bad :))']}, {'title': 'Planning to visit Goa', 'comments': [\"Yes, cola is beautiful but not sure if it's a good idea to take your own car there during rains. It's an actual off-road\", 'Try Betalbatim, majorda, sunset beach. \\nExplore the food. My fav - juju (i find it a little expensive) in Betalbatim ,beno in benaulim, fes deli in madgaon\\nTry ross omlette with poi bread if you eat non veg', \"Try South Goa. There are just so many beautiful offbeat places you can visit. If you cannot enjoy beaches because of rains, you can always visit wildlife sanctuaries: netravali or cotigao. There are these amazing waterfalls too like the bambufno waterfall, etc. if you can drive to goa, it's always better to have your own car, if not, self drive cars are a good option too. You can get many good self drive car options near dabolim airport or madgaon station. Let me know if you are looking for something specific.\", \"You HAVE to go to Aunty Maria's Cafe. It comforted me so much. The artwork is just beautiful 😍 And don't forget to go to Mario Miranda's art gallery! \\n\\n\\nAll the best. Have a happy and safe journey :) 💐\", 'I have my tickets booked for 23rd September, with family. Not a good time weather wise?', 'It is raining heavily in goa RN you won’t be able to explore much \\nIn north goa you can go to mandrem\\nBeach , light house , \\n\\nMost off beat are in south Goa one of my fav is cola beach', 'Thanks for the heads up', \"Are you from Goa? Well, I don't want to deal with the scamsters. I like to enjoy when I am on vacation, and not dealing with these issues. One of my friends had a really bad experience with the self drive car service provider. So I was thinking about coming with my own car. \\n\\nAs of now I am looking for food and place recommendations, explore Portugese architecture, meet fellow travellers and enjoy\", 'Thank you, will definitely try these!', 'Thank you!\\nThat is why I was planning to come almost 2 weeks from now', \"Sorry, not from Goa, but I visit Goa twice a year. Been to south Goa twice this year. I can give you contact number of a person who provided us with a great four wheeler both times. \\n\\nIf you like local goan food, please try mother recipes in benaulim or fisherman's near palolem beach or fishland near cabo de rama fort \\n\\nIf you are more of a north indian or indo chinese cuisine lover, try out mr singh at ourem road.\\n\\nIf you prefer the vibes more, try out The Mill near palolem beach(bit expensive, but the food is amazing)\\n\\n\\nPlaces: All beaches around palolem are beautiful, especially galgibaga, agonda, cola and kakolem. You can try out wildlife sanctuaries.\\n\\nAnd if you are looking to explore more of architecture and off beat activities, try staying near benaulim. You would be near the churches and you can do some off beat activities like cultural walks or bioluminescent forest tours with soultravelling.\", 'Yes bro plan in October first week best time to visit goa i have been there 10 times so i can assure you this is not the right time to have some peace down there', \"Thank you so much for this!!\\nI'll definitely try to do all these, I am a vegetarian though\", \"Thank you! \\nI think I'll postpone my trip\", 'Well, veg thalis are also great at these places.']}, {'title': 'Goa in monsoons', 'comments': ['Goa and Monsoon is one more reason to fall in love with Goa', 'Make sure to explore the stunning Betalbatim Beach and the serene Querim Beach! These two gems are absolutely captivating and offer experiences you won’t want to miss!', 'Yo can I get link for the airbnb? also how’s the weather there I’m planning to visit july first week my concern is will everything be open if it rains?', 'Can you provide a basic itinerary, must visit places, etc. planning to visit Goa in mid July.', 'Restaurants are overpriced', 'You got me with the 1st and 3rd pic. Peaceful and sparsely populated bars and beaches- just my thing.', 'Opp side of Goa', 'Are there any shacks open at betalbatim beach right now?', 'Sure dm me', 'Please tell me where are these places']}, {'title': 'My first Goa trip completed | Tips for you', 'comments': ['As someone who plans to travel to Goa soon, this is helpful. Thank you.', 'Nice discription \\nSex on the beach is on my bucket list \\n\"Already done with GF now need to do it with my wife \"', 'Great post and lovely to see a positive experience 😊', \"You must have tried querim too, it's in north only but quite peaceful.\", 'If you had water activities where did you kept your belongings phone, wallet etc, are there any lockers also any changing room on beach?', 'And can we get e-bikes on rental basis? \\nAnd the recliners on the beach are free to use or paid? \\nAnd ajy idea how to book a candle light dinner?', 'Thanks this itenary was helpful… I’m planning something on the same lines', 'Btw how hot is it between 11-3? I’m going end of March', 'Where can we keep our mobile purse when are swimming in water ??', \"Hey @Belly_fat thanks for the suggestions you have given my above regarding the bag, I finally went to goa had a nice trip. Just something I wanted to share that instead of the bag you suggested to me I have bought another one. \\nFor new tourists - you have to be aware of the point that you should have your belongings safe while having water activities. I was offered a locker, by the person who was conducting water sports,for 200 so i thought to keep it in the locker as my belongings will get spoiled, I was carrying some cash, mobile phones, wallet. While I came back from activities and opened the locker (whose key was with me) I saw my side bag which i kept inside the locker had it's two zips open which I felt was tried to open by the water sports person, but I was having a special type of side bag with inbuilt locks, so that person was not able to open and hence my mobile phone and cash was safe. So I recommend whoever goes to Goa have this type of bag with you. You can check from the bag link [Bag Link](https://amzn.to/3EZDSD8).\", 'I booked a small hotel on palolem beach as I don’t want too secluded and quiet beach …I’m going with a friend…is palolem decent for a swimming suit? Also, is palolem dirty?', 'Great man. Planning in last week of sept', 'I like the \"sex on the beach\" part. Awesome.', 'Can you share property details of south goa where you stayed? And reviews on that please', \"Yes I've gone to Querik but not to beach. I did paramotoring in Querim hill\", \"https://preview.redd.it/pqafxj0y8dfe1.jpeg?width=1179&format=pjpg&auto=webp&s=7c76221670576dc6c7819c2d51fc19f3658ca97b\\n\\nI carried this bag bought from Decathlon that costs 500. We kept mobiles, power bank in a ziplock bag and wallets alltogether in this bag. It's compact, light weight and easy to carry\", \"I came across multiple bike rent houses there, but haven't noticed e-bikes. Most of them are access 125, Activas. Recliners are not free to use. You have to buy something in the respective shacks. A beer or drink anything. There is no time limit or monitoring on how long you relax in recliners. For candle light dinner, it depends on the resort you book. Most of the resorts will make a special candle light dinner if you have a word with them and they will charge you seperately. Once you book a good resort, call them a week before and check possibility of individual candle light dinner arrangement. I'm sure they will arrange.\", 'it will be too hot. Sunglasses, sunscreen, light clothes are must', 'if it is a solo trip, then one should consider the safety of their belongings. But if it is a couple trip or family trip, there is always a person holds your bag (even if it is a normal one) when the other one is doing water activity. We did the same while I paragliding, parasailing or jet ski. However when we both get into the water it is obvious to place my bag at some shore and keeping an eye on it', 'Agonda serenity resort. No negetives, All good. Every evening they also areange a simple candle light tables at the shore.']}]\n",
      "Client Created successfully\n",
      "Here's a summary of key recommendations for traveling to Goa, based on Reddit user experiences:\n",
      "\n",
      "**Transportation & Logistics:**\n",
      "\n",
      "*   **Vehicle Rental:** Renting a scooter or self-drive car is highly recommended due to taxi mafia issues and unreliable app-based services (GoaMiles).\n",
      "    *   **Tips for Renting:** Take a video of the vehicle (scooter/car) before accepting to document any existing scratches or bumps. For scooters, consider renting a raincoat, especially during monsoon.\n",
      "    *   **Cost:** Scooter rentals can be around ₹400 per day, though prices may increase during peak season/long weekends (some users reported ₹800/day). Self-drive cars can be booked from services like Vailankanni Car Rentals, Zoomcar, MyChoize, and Revv. Local rental companies may offer better rates and more flexibility.\n",
      "*   **Airport/Railway Station Transfers:**\n",
      "    *   **From Airport:** Goa Miles is generally reliable for transfers from the airport to your hotel. Alternatively, look for the government cab service near the exit gate, where prices are displayed. Save the driver's number for potential return trips.\n",
      "    *   **To Airport:** Booking through your hotel for airport drops is often suggested for convenience and safety, though it may be pricier. Booking a full-day Goa tour cab with a hotel contact, ending at the airport, can also circumvent taxi issues.\n",
      "*   **Taxi Alternatives:**\n",
      "    *   **Buses:** Explore bus routes for inter-city travel within Goa. For longer journeys to/from Pune, FlixBus, ZingBus, Intercity, Purple (Volvo multi-axle), Atmaram, and Gobus are mentioned. Avoid Paolo and VRL.\n",
      "    *   **Trains:** Taking a train from places like Mumbai offers comfortable travel and scenic views of the Konkan coast.\n",
      "*   **Navigation Challenges:** North Goa roads can be dug up and dusty due to ongoing construction, making scooter travel uncomfortable.\n",
      "\n",
      "**Accommodation:**\n",
      "\n",
      "*   **Hostels:**\n",
      "    *   **Zostel Morjim:** Highly recommended for its rooms, ambiance, space, and \"hippie corner.\"\n",
      "    *   **Zostel Anjuna:** A good option if you prefer proximity to party places.\n",
      "    *   **Woke Hostel at Morjim:** Also mentioned as a good option.\n",
      "*   **Other Stays:**\n",
      "    *   **House of Memories (hostel):** Recommended for solo female travelers, known for safety, great owners, lovely dogs, and nearby food options. The owner often plans activities and dinners.\n",
      "    *   **Solo Rooms:** Preferred by some travelers over hostels.\n",
      "    *   **Babu Beach Huts (Morjim):** Mentioned as a good option.\n",
      "    *   **Agonda Serenity Resort:** Recommended for South Goa, with positive reviews and evening candle-lit tables on the shore.\n",
      "    *   **Indismart Woodbourne Resort (South Goa):** A good option for non-party folks (4-pax villa).\n",
      "\n",
      "**Places to Visit & Activities:**\n",
      "\n",
      "*   **Beaches:**\n",
      "    *   **North Goa:**\n",
      "        *   **Anjuna Beach:** Known for its Wednesday flea market (haggle for prices). Be aware that it has become more crowded and commercialized.\n",
      "        *   **Mandrem Beach:** Recommended for peaceful experiences.\n",
      "        *   **Querim Beach:** Described as peaceful and captivating.\n",
      "    *   **South Goa:**\n",
      "        *   **Palolem Beach:** Beautiful, with a hill-station vibe. Decent for swimming suits and generally not considered dirty.\n",
      "        *   **Butterfly Beach:** Can be reached by a 20-30 minute trek from Palolem if boat services are closed; considered worth the effort and not entirely empty.\n",
      "        *   **Cola Beach:** Beautiful and off-beat. Be cautious if driving your own car during rains, as it involves off-roading.\n",
      "        *   **Betalbatim Beach:** Stunning and serene.\n",
      "        *   **Majorda Beach, Sunset Beach, Agonda Beach, Galgibaga Beach, Kakolem Beach:** Recommended for their beauty.\n",
      "*   **Attractions & Unique Activities:**\n",
      "    *   **Old Goa & Churches:** Explore historical sites.\n",
      "    *   **Casinos:** Deltin Jaqk in South Goa is mentioned as a fun experience.\n",
      "    *   **Quarries:** Explore unique geological features.\n",
      "    *   **Kayaking:** A recommended activity.\n",
      "    *   **Mario Miranda's Art Gallery:** Visit for beautiful artwork.\n",
      "    *   **Wildlife Sanctuaries:** Netravali and Cotigao are options, especially if beaches are not ideal due to rain.\n",
      "    *   **Waterfalls:** Bambufno waterfall is mentioned.\n",
      "    *   **Cultural Walks / Bioluminescent Forest Tours:** Offered by \"Soultravelling\" near Benaulim.\n",
      "    *   **Paramotoring:** Available in Querim hill.\n",
      "*   **Shopping:**\n",
      "    *   **Madgaon Market:** Good for shopping.\n",
      "    *   **Anjuna Flea Market:** Open on Wednesdays.\n",
      "*   **General Tips:**\n",
      "    *   **Wandering:** Enjoy the freedom of finding a cozy place anywhere to watch the sunset with a drink.\n",
      "    *   **Safety:** Be cautious if traveling solo, especially late at night. Goa is generally considered safe for women.\n",
      "\n",
      "**Food & Drinks:**\n",
      "\n",
      "*   **Recommended Food Spots:**\n",
      "    *   **Dados Goan Café:** Highly praised for fish thalis and kokum soda.\n",
      "    *   **Cheeky Chilli (Palolem):** Good for thalis, Pad Thai, and Thukpa.\n",
      "    *   **Lounghinos (Madgaon):** Classic spot for mutton sukka, squid masala, fenny, and rum balls.\n",
      "    *   **Como Pizzeria (North Goa):** A recommended restaurant.\n",
      "    *   **Artjuna (Assagao):** A popular cafe.\n",
      "    *   **Aunty Maria's Cafe:** Recommended for its comforting atmosphere and artwork.\n",
      "    *   **Juju (Betalbatim):** Considered a good, albeit a bit expensive, option for food.\n",
      "    *   **Beno (Benaulim):** A recommended food spot.\n",
      "    *   **Fes Deli (Madgaon):** Another recommended place.\n",
      "    *   **Mother Recipes (Benaulim):** Good for local Goan food.\n",
      "    *   **Fisherman's (near Palolem Beach):** Another spot for local Goan food.\n",
      "    *   **Fishland (near Cabo de Rama Fort):** Recommended for fish dishes.\n",
      "    *   **Mr. Singh (Ourem Road):** If you prefer North Indian or Indo-Chinese cuisine.\n",
      "    *   **The Mill (near Palolem Beach):** Offers great food with good vibes, though a bit expensive.\n",
      "    *   **Veranda and Kuchun:** Mentioned as good places to check out.\n",
      "*   **Must-Try Dishes & Drinks:**\n",
      "    *   **Ros Omelette with Poi bread:** A local delicacy. Note: some famous places might be closed on Mondays.\n",
      "    *   **Cafreal, Choris Pao, Bebinca, Local Soups & Cutlets:** Goan specialties.\n",
      "    *   **Fish Thalis, Kokum Soda, Mutton Sukka, Squid Masala, Fenny, Rum Balls, Pad Thai, Thukpa.**\n",
      "    *   **Patoleos:** A traditional sweet, but difficult to find in restaurants, usually prepared at home.\n",
      "*   **General Food Tips:**\n",
      "    *   **Shacks:** While some users report shacks ripping people off and deteriorating food quality, others mention finding good main dishes and multiple cocktails under ₹1000.\n",
      "    *   **Vegetarian Options:** Many places offer great vegetarian thalis.\n",
      "    *   **Alcohol:** You don't need alcohol to enjoy Goa, but cold beer is a popular choice for sunset watching.\n",
      "\n",
      "**Practical Tips:**\n",
      "\n",
      "*   **Best Time to Visit:** October is generally considered a good time as the monsoon subsides, though some showers may occur. September-October is the end of monsoon season and can be humid. Monsoon (July-August) can be harsh, affecting activities like Dudh Sagar, but some find the food, casino, and natural beauty still make it enjoyable.\n",
      "*   **Connectivity:** Jio network can be problematic in North Goa; carry cash.\n",
      "*   **Payments:** GPay is widely available.\n",
      "*   **Staying Safe with Belongings:**\n",
      "    *   When swimming or doing water activities, if alone, use a waterproof bag with in-built locks (some users recommend a specific type of side bag).\n",
      "    *   If with a group, someone can hold the bag.\n",
      "    *   Lockers may be available at water sports activity points (e.g., ₹200). Be cautious, as some users reported attempts to open lockers despite having the key.\n",
      "*   **Beach Recliners:** Not free; you need to buy something from the respective shacks to use them.\n",
      "*   **Candlelight Dinner:** Inquire with your resort a week in advance; most can arrange it for an additional charge.\n",
      "*   **Heat:** End of March can be very hot (11 AM-3 PM); sunglasses, sunscreen, and light clothes are essential.\n",
      "Client Created successfully\n",
      "```json\n",
      "{\n",
      "  \"itinerary\": [\n",
      "    {\n",
      "      \"day\": 1,\n",
      "      \"morning\": \"Arrival at Goa Airport (GOI). Pick up a pre-booked self-drive car from a reputable service like Vailankanni Car Rentals or MyChoize (approx. ₹1500-2000/day for a compact car). Drive to North Goa and check into a hotel in Anjuna or Vagator (e.g., W Goa, The Park Calangute, or a well-rated boutique hotel matching the budget). Relax and freshen up. For breakfast, head to Artjuna Cafe in Assagao for a delicious vegetarian breakfast spread amidst a bohemian ambiance (estimated cost for breakfast: ₹800).\",\n",
      "      \"afternoon\": \"Explore the vibrant Anjuna Flea Market (open on Wednesdays, if applicable for your December trip – confirm exact operating days closer to the date). Haggle for souvenirs, clothes, and handicrafts. Enjoy street food snacks like 'Ros Omelette' (vegetarian option available) from local stalls (estimated cost for market and snacks: ₹1500). Later, relax at Anjuna Beach, soaking in the sun and enjoying the lively atmosphere.\",\n",
      "      \"evening\": \"Experience North Goa's famous nightlife. Start with dinner at Como Pizzeria for excellent vegetarian pizzas and Italian fare (estimated cost: ₹2000). Afterwards, head to Curlies Beach Shack or Shiva Valley (confirm current opening status closer to your travel date as some venues change) on Anjuna Beach for trance music and lively party vibes. Enjoy drinks and dance the night away (estimated cost for drinks and entry: ₹4000).\",\n",
      "      \"estimated_cost\": 10300\n",
      "    },\n",
      "    {\n",
      "      \"day\": 2,\n",
      "      \"morning\": \"Start the day with a visit to the Chapora Fort for panoramic views of Vagator Beach and the Morjim coastline – perfect for photos. Grab a quick vegetarian breakfast at a local cafe near Vagator (e.g., German Bakery, known for veg options; estimated cost: ₹600).\",\n",
      "      \"afternoon\": \"Head to Mandrem Beach for a more relaxed vibe. Enjoy a leisurely vegetarian lunch at one of the peaceful beach shacks (estimated cost: ₹1500). Afterwards, consider a kayaking session (pre-book if possible, estimated cost: ₹1000 per person) or simply relax by the serene waters.\",\n",
      "      \"evening\": \"Explore the sophisticated nightlife of North Goa. Enjoy a delectable vegetarian dinner at Olive Bar & Kitchen in Vagator, known for its Mediterranean cuisine and stunning sunset views (estimated cost: ₹3500). Later, head to Tito's Lane in Baga for a classic Goa clubbing experience. Options like Cafe Mambo or Club Titos offer mainstream music and a lively crowd (estimated cost for drinks and entry: ₹3000).\",\n",
      "      \"estimated_cost\": 9600\n",
      "    },\n",
      "    {\n",
      "      \"day\": 3,\n",
      "      \"morning\": \"Drive to Old Goa to immerse yourselves in its rich history and architecture. Visit the Basilica of Bom Jesus and Se Cathedral. Have a light vegetarian breakfast at a local eatery in Old Goa (estimated cost: ₹500).\",\n",
      "      \"afternoon\": \"Continue exploring Old Goa, perhaps visiting the Church of St. Cajetan or the Museum of Christian Art. For lunch, try a local vegetarian thali at a simple yet authentic restaurant in the area (estimated cost: ₹1000). Afterwards, drive back towards the central part of Goa.\",\n",
      "      \"evening\": \"Experience a different side of Goan entertainment with an evening at a casino. Head to Deltin Jaqk for a fun-filled night of gaming and entertainment (entry packages often include food and drinks; estimated cost: ₹3000 per person, so ₹6000 for a couple). Enjoy the buffet dinner and try your luck at the tables.\",\n",
      "      \"estimated_cost\": 7500\n",
      "    },\n",
      "    {\n",
      "      \"day\": 4,\n",
      "      \"morning\": \"Embark on a scenic drive to South Goa. Check into a hotel near Palolem or Agonda Beach (e.g., Agonda Serenity Resort or a similar beachfront property within budget). Enjoy a peaceful vegetarian breakfast at your hotel or a nearby cafe (estimated cost: ₹800).\",\n",
      "      \"afternoon\": \"Spend the afternoon relaxing on the beautiful Palolem Beach. Enjoy swimming, sunbathing, or take a boat trip to Butterfly Beach (if available and weather permits; estimated cost: ₹1500 for the boat trip). For lunch, enjoy fresh vegetarian dishes at Cheeky Chilli in Palolem (estimated cost: ₹1500).\",\n",
      "      \"evening\": \"Experience the laid-back yet vibrant nightlife of South Goa. Enjoy a romantic candle-lit vegetarian dinner right on Palolem Beach at one of the many shacks (inquire with your hotel or a specific shack a day in advance for arrangements; estimated cost: ₹3000). After dinner, enjoy live music or a fire show if available, savoring cocktails by the sea (estimated cost for drinks: ₹2000).\",\n",
      "      \"estimated_cost\": 8800\n",
      "    },\n",
      "    {\n",
      "      \"day\": 5,\n",
      "      \"morning\": \"Enjoy a final leisurely vegetarian breakfast in South Goa (estimated cost: ₹700). Depending on your flight schedule, you could visit another serene beach like Cola Beach (be mindful of the driving conditions, especially if it's off-road) or Majorda Beach for a final glimpse of Goa's natural beauty.\",\n",
      "      \"afternoon\": \"Begin your journey back to Goa Airport. Stop for a quick vegetarian lunch at a well-rated restaurant en route, or pack some snacks (estimated cost: ₹1000). Return your rental car at the airport.\",\n",
      "      \"evening\": \"Depart from Goa Airport (GOI) with wonderful memories of your food and nightlife adventure.\",\n",
      "      \"estimated_cost\": 1700\n",
      "    }\n",
      "  ],\n",
      "  \"total_estimated_cost\": 37900\n",
      "}\n",
      "```\n",
      "Generated Itinerary: {'itinerary': [{'day': 1, 'morning': 'Arrival at Goa Airport (GOI). Pick up a pre-booked self-drive car from a reputable service like Vailankanni Car Rentals or MyChoize (approx. ₹1500-2000/day for a compact car). Drive to North Goa and check into a hotel in Anjuna or Vagator (e.g., W Goa, The Park Calangute, or a well-rated boutique hotel matching the budget). Relax and freshen up. For breakfast, head to Artjuna Cafe in Assagao for a delicious vegetarian breakfast spread amidst a bohemian ambiance (estimated cost for breakfast: ₹800).', 'afternoon': \"Explore the vibrant Anjuna Flea Market (open on Wednesdays, if applicable for your December trip – confirm exact operating days closer to the date). Haggle for souvenirs, clothes, and handicrafts. Enjoy street food snacks like 'Ros Omelette' (vegetarian option available) from local stalls (estimated cost for market and snacks: ₹1500). Later, relax at Anjuna Beach, soaking in the sun and enjoying the lively atmosphere.\", 'evening': \"Experience North Goa's famous nightlife. Start with dinner at Como Pizzeria for excellent vegetarian pizzas and Italian fare (estimated cost: ₹2000). Afterwards, head to Curlies Beach Shack or Shiva Valley (confirm current opening status closer to your travel date as some venues change) on Anjuna Beach for trance music and lively party vibes. Enjoy drinks and dance the night away (estimated cost for drinks and entry: ₹4000).\", 'estimated_cost': 10300}, {'day': 2, 'morning': 'Start the day with a visit to the Chapora Fort for panoramic views of Vagator Beach and the Morjim coastline – perfect for photos. Grab a quick vegetarian breakfast at a local cafe near Vagator (e.g., German Bakery, known for veg options; estimated cost: ₹600).', 'afternoon': 'Head to Mandrem Beach for a more relaxed vibe. Enjoy a leisurely vegetarian lunch at one of the peaceful beach shacks (estimated cost: ₹1500). Afterwards, consider a kayaking session (pre-book if possible, estimated cost: ₹1000 per person) or simply relax by the serene waters.', 'evening': \"Explore the sophisticated nightlife of North Goa. Enjoy a delectable vegetarian dinner at Olive Bar & Kitchen in Vagator, known for its Mediterranean cuisine and stunning sunset views (estimated cost: ₹3500). Later, head to Tito's Lane in Baga for a classic Goa clubbing experience. Options like Cafe Mambo or Club Titos offer mainstream music and a lively crowd (estimated cost for drinks and entry: ₹3000).\", 'estimated_cost': 9600}, {'day': 3, 'morning': 'Drive to Old Goa to immerse yourselves in its rich history and architecture. Visit the Basilica of Bom Jesus and Se Cathedral. Have a light vegetarian breakfast at a local eatery in Old Goa (estimated cost: ₹500).', 'afternoon': 'Continue exploring Old Goa, perhaps visiting the Church of St. Cajetan or the Museum of Christian Art. For lunch, try a local vegetarian thali at a simple yet authentic restaurant in the area (estimated cost: ₹1000). Afterwards, drive back towards the central part of Goa.', 'evening': 'Experience a different side of Goan entertainment with an evening at a casino. Head to Deltin Jaqk for a fun-filled night of gaming and entertainment (entry packages often include food and drinks; estimated cost: ₹3000 per person, so ₹6000 for a couple). Enjoy the buffet dinner and try your luck at the tables.', 'estimated_cost': 7500}, {'day': 4, 'morning': 'Embark on a scenic drive to South Goa. Check into a hotel near Palolem or Agonda Beach (e.g., Agonda Serenity Resort or a similar beachfront property within budget). Enjoy a peaceful vegetarian breakfast at your hotel or a nearby cafe (estimated cost: ₹800).', 'afternoon': 'Spend the afternoon relaxing on the beautiful Palolem Beach. Enjoy swimming, sunbathing, or take a boat trip to Butterfly Beach (if available and weather permits; estimated cost: ₹1500 for the boat trip). For lunch, enjoy fresh vegetarian dishes at Cheeky Chilli in Palolem (estimated cost: ₹1500).', 'evening': 'Experience the laid-back yet vibrant nightlife of South Goa. Enjoy a romantic candle-lit vegetarian dinner right on Palolem Beach at one of the many shacks (inquire with your hotel or a specific shack a day in advance for arrangements; estimated cost: ₹3000). After dinner, enjoy live music or a fire show if available, savoring cocktails by the sea (estimated cost for drinks: ₹2000).', 'estimated_cost': 8800}, {'day': 5, 'morning': \"Enjoy a final leisurely vegetarian breakfast in South Goa (estimated cost: ₹700). Depending on your flight schedule, you could visit another serene beach like Cola Beach (be mindful of the driving conditions, especially if it's off-road) or Majorda Beach for a final glimpse of Goa's natural beauty.\", 'afternoon': 'Begin your journey back to Goa Airport. Stop for a quick vegetarian lunch at a well-rated restaurant en route, or pack some snacks (estimated cost: ₹1000). Return your rental car at the airport.', 'evening': 'Depart from Goa Airport (GOI) with wonderful memories of your food and nightlife adventure.', 'estimated_cost': 1700}], 'total_estimated_cost': 37900}\n",
      "Personalized Itinerary: {'itinerary': [{'day': 1, 'morning': 'Arrival at Goa Airport (GOI). Pick up a pre-booked self-drive car from a reputable service like Vailankanni Car Rentals or MyChoize (approx. ₹1500-2000/day for a compact car). Drive to North Goa and check into a hotel in Anjuna or Vagator (e.g., W Goa, The Park Calangute, or a well-rated boutique hotel matching the budget). Relax and freshen up. For breakfast, head to Artjuna Cafe in Assagao for a delicious vegetarian breakfast spread amidst a bohemian ambiance (estimated cost for breakfast: ₹800).', 'afternoon': \"Explore the vibrant Anjuna Flea Market (open on Wednesdays, if applicable for your December trip – confirm exact operating days closer to the date). Haggle for souvenirs, clothes, and handicrafts. Enjoy street food snacks like 'Ros Omelette' (vegetarian option available) from local stalls (estimated cost for market and snacks: ₹1500). Later, relax at Anjuna Beach, soaking in the sun and enjoying the lively atmosphere.\", 'evening': \"Experience North Goa's famous nightlife. Start with dinner at Como Pizzeria for excellent vegetarian pizzas and Italian fare (estimated cost: ₹2000). Afterwards, head to Curlies Beach Shack or Shiva Valley (confirm current opening status closer to your travel date as some venues change) on Anjuna Beach for trance music and lively party vibes. Enjoy drinks and dance the night away (estimated cost for drinks and entry: ₹4000).\", 'estimated_cost': 10300, 'note': 'Add evening clubs, lounges, or beach parties.'}, {'day': 2, 'morning': 'Start the day with a visit to the Chapora Fort for panoramic views of Vagator Beach and the Morjim coastline – perfect for photos. Grab a quick vegetarian breakfast at a local cafe near Vagator (e.g., German Bakery, known for veg options; estimated cost: ₹600).', 'afternoon': 'Head to Mandrem Beach for a more relaxed vibe. Enjoy a leisurely vegetarian lunch at one of the peaceful beach shacks (estimated cost: ₹1500). Afterwards, consider a kayaking session (pre-book if possible, estimated cost: ₹1000 per person) or simply relax by the serene waters.', 'evening': \"Explore the sophisticated nightlife of North Goa. Enjoy a delectable vegetarian dinner at Olive Bar & Kitchen in Vagator, known for its Mediterranean cuisine and stunning sunset views (estimated cost: ₹3500). Later, head to Tito's Lane in Baga for a classic Goa clubbing experience. Options like Cafe Mambo or Club Titos offer mainstream music and a lively crowd (estimated cost for drinks and entry: ₹3000).\", 'estimated_cost': 9600, 'note': 'Add evening clubs, lounges, or beach parties.'}, {'day': 3, 'morning': 'Drive to Old Goa to immerse yourselves in its rich history and architecture. Visit the Basilica of Bom Jesus and Se Cathedral. Have a light vegetarian breakfast at a local eatery in Old Goa (estimated cost: ₹500).', 'afternoon': 'Continue exploring Old Goa, perhaps visiting the Church of St. Cajetan or the Museum of Christian Art. For lunch, try a local vegetarian thali at a simple yet authentic restaurant in the area (estimated cost: ₹1000). Afterwards, drive back towards the central part of Goa.', 'evening': 'Experience a different side of Goan entertainment with an evening at a casino. Head to Deltin Jaqk for a fun-filled night of gaming and entertainment (entry packages often include food and drinks; estimated cost: ₹3000 per person, so ₹6000 for a couple). Enjoy the buffet dinner and try your luck at the tables.', 'estimated_cost': 7500, 'note': 'Add evening clubs, lounges, or beach parties.'}, {'day': 4, 'morning': 'Embark on a scenic drive to South Goa. Check into a hotel near Palolem or Agonda Beach (e.g., Agonda Serenity Resort or a similar beachfront property within budget). Enjoy a peaceful vegetarian breakfast at your hotel or a nearby cafe (estimated cost: ₹800).', 'afternoon': 'Spend the afternoon relaxing on the beautiful Palolem Beach. Enjoy swimming, sunbathing, or take a boat trip to Butterfly Beach (if available and weather permits; estimated cost: ₹1500 for the boat trip). For lunch, enjoy fresh vegetarian dishes at Cheeky Chilli in Palolem (estimated cost: ₹1500).', 'evening': 'Experience the laid-back yet vibrant nightlife of South Goa. Enjoy a romantic candle-lit vegetarian dinner right on Palolem Beach at one of the many shacks (inquire with your hotel or a specific shack a day in advance for arrangements; estimated cost: ₹3000). After dinner, enjoy live music or a fire show if available, savoring cocktails by the sea (estimated cost for drinks: ₹2000).', 'estimated_cost': 8800, 'note': 'Add evening clubs, lounges, or beach parties.'}, {'day': 5, 'morning': \"Enjoy a final leisurely vegetarian breakfast in South Goa (estimated cost: ₹700). Depending on your flight schedule, you could visit another serene beach like Cola Beach (be mindful of the driving conditions, especially if it's off-road) or Majorda Beach for a final glimpse of Goa's natural beauty.\", 'afternoon': 'Begin your journey back to Goa Airport. Stop for a quick vegetarian lunch at a well-rated restaurant en route, or pack some snacks (estimated cost: ₹1000). Return your rental car at the airport.', 'evening': 'Depart from Goa Airport (GOI) with wonderful memories of your food and nightlife adventure.', 'estimated_cost': 1700, 'note': 'Add evening clubs, lounges, or beach parties.'}], 'total_estimated_cost': 37900}\n"
     ]
    }
   ],
   "source": [
    "posts = fetch_reddit_comments(place, limit=10)\n",
    "print(\"Posts: \", posts)\n",
    "text_blob = preprocess_reddit_data(posts)\n",
    "\n",
    "summary = summarize_places(text_blob, place)\n",
    "\n",
    "itinerary = generate_itinerary(new_parsed, summary)\n",
    "print(\"Generated Itinerary:\", itinerary)\n",
    "\n",
    "personalized = apply_personalization(itinerary, new_parsed[\"themes\"])\n",
    "print(\"Personalized Itinerary:\", personalized)"
   ]
  },
  {
   "cell_type": "code",
   "execution_count": 25,
   "id": "49bdcea0",
   "metadata": {},
   "outputs": [],
   "source": [
    "l = json.dumps(personalized)"
   ]
  },
  {
   "cell_type": "code",
   "execution_count": 26,
   "id": "f610704b",
   "metadata": {},
   "outputs": [
    {
     "data": {
      "text/plain": [
       "str"
      ]
     },
     "execution_count": 26,
     "metadata": {},
     "output_type": "execute_result"
    }
   ],
   "source": [
    "type(l)"
   ]
  },
  {
   "cell_type": "code",
   "execution_count": 27,
   "id": "21a67c97",
   "metadata": {},
   "outputs": [
    {
     "data": {
      "text/plain": [
       "'{\"itinerary\": [{\"day\": 1, \"morning\": \"Arrival at Goa Airport (GOI). Pick up a pre-booked self-drive car from a reputable service like Vailankanni Car Rentals or MyChoize (approx. \\\\u20b91500-2000/day for a compact car). Drive to North Goa and check into a hotel in Anjuna or Vagator (e.g., W Goa, The Park Calangute, or a well-rated boutique hotel matching the budget). Relax and freshen up. For breakfast, head to Artjuna Cafe in Assagao for a delicious vegetarian breakfast spread amidst a bohemian ambiance (estimated cost for breakfast: \\\\u20b9800).\", \"afternoon\": \"Explore the vibrant Anjuna Flea Market (open on Wednesdays, if applicable for your December trip \\\\u2013 confirm exact operating days closer to the date). Haggle for souvenirs, clothes, and handicrafts. Enjoy street food snacks like \\'Ros Omelette\\' (vegetarian option available) from local stalls (estimated cost for market and snacks: \\\\u20b91500). Later, relax at Anjuna Beach, soaking in the sun and enjoying the lively atmosphere.\", \"evening\": \"Experience North Goa\\'s famous nightlife. Start with dinner at Como Pizzeria for excellent vegetarian pizzas and Italian fare (estimated cost: \\\\u20b92000). Afterwards, head to Curlies Beach Shack or Shiva Valley (confirm current opening status closer to your travel date as some venues change) on Anjuna Beach for trance music and lively party vibes. Enjoy drinks and dance the night away (estimated cost for drinks and entry: \\\\u20b94000).\", \"estimated_cost\": 10300, \"note\": \"Add evening clubs, lounges, or beach parties.\"}, {\"day\": 2, \"morning\": \"Start the day with a visit to the Chapora Fort for panoramic views of Vagator Beach and the Morjim coastline \\\\u2013 perfect for photos. Grab a quick vegetarian breakfast at a local cafe near Vagator (e.g., German Bakery, known for veg options; estimated cost: \\\\u20b9600).\", \"afternoon\": \"Head to Mandrem Beach for a more relaxed vibe. Enjoy a leisurely vegetarian lunch at one of the peaceful beach shacks (estimated cost: \\\\u20b91500). Afterwards, consider a kayaking session (pre-book if possible, estimated cost: \\\\u20b91000 per person) or simply relax by the serene waters.\", \"evening\": \"Explore the sophisticated nightlife of North Goa. Enjoy a delectable vegetarian dinner at Olive Bar & Kitchen in Vagator, known for its Mediterranean cuisine and stunning sunset views (estimated cost: \\\\u20b93500). Later, head to Tito\\'s Lane in Baga for a classic Goa clubbing experience. Options like Cafe Mambo or Club Titos offer mainstream music and a lively crowd (estimated cost for drinks and entry: \\\\u20b93000).\", \"estimated_cost\": 9600, \"note\": \"Add evening clubs, lounges, or beach parties.\"}, {\"day\": 3, \"morning\": \"Drive to Old Goa to immerse yourselves in its rich history and architecture. Visit the Basilica of Bom Jesus and Se Cathedral. Have a light vegetarian breakfast at a local eatery in Old Goa (estimated cost: \\\\u20b9500).\", \"afternoon\": \"Continue exploring Old Goa, perhaps visiting the Church of St. Cajetan or the Museum of Christian Art. For lunch, try a local vegetarian thali at a simple yet authentic restaurant in the area (estimated cost: \\\\u20b91000). Afterwards, drive back towards the central part of Goa.\", \"evening\": \"Experience a different side of Goan entertainment with an evening at a casino. Head to Deltin Jaqk for a fun-filled night of gaming and entertainment (entry packages often include food and drinks; estimated cost: \\\\u20b93000 per person, so \\\\u20b96000 for a couple). Enjoy the buffet dinner and try your luck at the tables.\", \"estimated_cost\": 7500, \"note\": \"Add evening clubs, lounges, or beach parties.\"}, {\"day\": 4, \"morning\": \"Embark on a scenic drive to South Goa. Check into a hotel near Palolem or Agonda Beach (e.g., Agonda Serenity Resort or a similar beachfront property within budget). Enjoy a peaceful vegetarian breakfast at your hotel or a nearby cafe (estimated cost: \\\\u20b9800).\", \"afternoon\": \"Spend the afternoon relaxing on the beautiful Palolem Beach. Enjoy swimming, sunbathing, or take a boat trip to Butterfly Beach (if available and weather permits; estimated cost: \\\\u20b91500 for the boat trip). For lunch, enjoy fresh vegetarian dishes at Cheeky Chilli in Palolem (estimated cost: \\\\u20b91500).\", \"evening\": \"Experience the laid-back yet vibrant nightlife of South Goa. Enjoy a romantic candle-lit vegetarian dinner right on Palolem Beach at one of the many shacks (inquire with your hotel or a specific shack a day in advance for arrangements; estimated cost: \\\\u20b93000). After dinner, enjoy live music or a fire show if available, savoring cocktails by the sea (estimated cost for drinks: \\\\u20b92000).\", \"estimated_cost\": 8800, \"note\": \"Add evening clubs, lounges, or beach parties.\"}, {\"day\": 5, \"morning\": \"Enjoy a final leisurely vegetarian breakfast in South Goa (estimated cost: \\\\u20b9700). Depending on your flight schedule, you could visit another serene beach like Cola Beach (be mindful of the driving conditions, especially if it\\'s off-road) or Majorda Beach for a final glimpse of Goa\\'s natural beauty.\", \"afternoon\": \"Begin your journey back to Goa Airport. Stop for a quick vegetarian lunch at a well-rated restaurant en route, or pack some snacks (estimated cost: \\\\u20b91000). Return your rental car at the airport.\", \"evening\": \"Depart from Goa Airport (GOI) with wonderful memories of your food and nightlife adventure.\", \"estimated_cost\": 1700, \"note\": \"Add evening clubs, lounges, or beach parties.\"}], \"total_estimated_cost\": 37900}'"
      ]
     },
     "execution_count": 27,
     "metadata": {},
     "output_type": "execute_result"
    }
   ],
   "source": [
    "l"
   ]
  },
  {
   "cell_type": "code",
   "execution_count": null,
   "id": "2bb8ab7a",
   "metadata": {},
   "outputs": [],
   "source": []
  }
 ],
 "metadata": {
  "kernelspec": {
   "display_name": "backend",
   "language": "python",
   "name": "python3"
  },
  "language_info": {
   "codemirror_mode": {
    "name": "ipython",
    "version": 3
   },
   "file_extension": ".py",
   "mimetype": "text/x-python",
   "name": "python",
   "nbconvert_exporter": "python",
   "pygments_lexer": "ipython3",
   "version": "3.11.5"
  }
 },
 "nbformat": 4,
 "nbformat_minor": 5
}
